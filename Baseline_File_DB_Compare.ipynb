{
 "cells": [
  {
   "cell_type": "code",
   "execution_count": null,
   "metadata": {},
   "outputs": [],
   "source": [
    "import pandas as pd\n",
    "import psycopg2\n",
    "import configparser\n",
    "from datetime import datetime\n",
    "import athusail as au\n",
    "import numpy as np"
   ]
  },
  {
   "cell_type": "code",
   "execution_count": null,
   "metadata": {},
   "outputs": [],
   "source": [
    "valuationdate = '20210930'\n",
    "testfile = \"fa_day3_alfa_feed_\" + valuationdate\n",
    "ailsuffix = '.ail2'\n",
    "csvsuffix = '.csv'\n",
    "excelsuffix = '.xlsx'"
   ]
  },
  {
   "cell_type": "code",
   "execution_count": null,
   "metadata": {},
   "outputs": [],
   "source": [
    "# Test CSV Flat file load\n",
    "start = datetime.now()\n",
    "stime = start\n",
    "print(\"Before file load: \", str(stime))\n",
    "voya_ail        = (r'T:\\Faith\\Python_Sandbox\\Postgres_DB_access\\Original_AILs_Received\\VOYA\\fa_day3_alfa_feed_20210930.ail2')\n",
    "\n",
    "file_df = au.load_csv_test(voya_ail)\n",
    "#file_df = au.load_us_deferred_ail_file(voya_ail)\n",
    "\n",
    "etime = datetime.now()\n",
    "outputstring = \"File (CSV) load time: \" + str(etime-stime) + \"   DF Rows: \" + str(len(file_df.index)) + \"   DF Columns: \" +  str(len(file_df.columns))\n",
    "print(outputstring)\n",
    "\n"
   ]
  },
  {
   "cell_type": "code",
   "execution_count": null,
   "metadata": {},
   "outputs": [],
   "source": [
    "#   Test AFDM DB download\n",
    "\n",
    "stime=datetime.now()\n",
    "db_df = au.load_us_deferred_ail_db()\n",
    "\n",
    "print(db_df.head(1))\n",
    "etime=datetime.now()\n",
    "\n",
    "outputstring = \"DB Download load time: \" + str(etime-stime) + \"   DF Rows: \" + str(len(file_df.index)) + \"   DF Columns: \" +  str(len(file_df.columns))\n",
    "print(outputstring)\n",
    "au.output_to_file(outputstring)\n"
   ]
  },
  {
   "cell_type": "code",
   "execution_count": null,
   "metadata": {},
   "outputs": [],
   "source": [
    "# Compare dataframes\n",
    "\n"
   ]
  },
  {
   "cell_type": "code",
   "execution_count": null,
   "metadata": {},
   "outputs": [],
   "source": [
    "#db_df.to_csv(\"fa_day3_alfa_feed_20210930_dbdownload.ail2\", sep='\\t', index=False)\n",
    "\n",
    "print(\"Download done - writing out to file\")\n",
    "\n",
    "stime=datetime.now()\n",
    "#au.write_excel_file(\"fa_day3_alfa_download.xlsx\", db_df)\n",
    "etime=datetime.now()\n",
    "\n",
    "outputstring = \"Write to Excel time: \" + str(etime-stime)\n",
    "print(outputstring)\n",
    "au.output_to_file(outputstring)\n",
    "\n",
    "currenttime = datetime.now()\n",
    "print(\"Done\", str(currenttime-start))"
   ]
  }
 ],
 "metadata": {
  "interpreter": {
   "hash": "1447695b36fe2be5d9765b07131918aaa8d78e974299eabc888a7d543f5f3690"
  },
  "kernelspec": {
   "display_name": "Python 3.9.1 64-bit",
   "language": "python",
   "name": "python3"
  },
  "language_info": {
   "codemirror_mode": {
    "name": "ipython",
    "version": 3
   },
   "file_extension": ".py",
   "mimetype": "text/x-python",
   "name": "python",
   "nbconvert_exporter": "python",
   "pygments_lexer": "ipython3",
   "version": "3.9.1"
  },
  "orig_nbformat": 4
 },
 "nbformat": 4,
 "nbformat_minor": 2
}
